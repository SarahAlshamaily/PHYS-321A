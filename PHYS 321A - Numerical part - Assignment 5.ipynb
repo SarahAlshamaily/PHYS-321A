{
 "cells": [
  {
   "cell_type": "code",
   "execution_count": 1,
   "metadata": {},
   "outputs": [],
   "source": [
    "#Import required packages\n",
    "\n",
    "%matplotlib inline\n",
    "from sympy import *\n",
    "init_printing(pretty_print=True) #Pretty printing"
   ]
  },
  {
   "cell_type": "code",
   "execution_count": 2,
   "metadata": {},
   "outputs": [],
   "source": [
    "#Introduce parameters\n",
    "x,r,R,theta,mu,G,M,g=symbols('X r R theta mu G M g')\n",
    "n=symbols('n',integer=True)\n",
    "f,gf,phi=symbols('f gf phi', cls=Function)"
   ]
  },
  {
   "cell_type": "code",
   "execution_count": 3,
   "metadata": {},
   "outputs": [
    {
     "data": {
      "image/png": "[encoded data removed]",
      "text/latex": [
       "$\\displaystyle \\frac{1}{\\sqrt{X^{2} - 2 X \\cos{\\left(\\theta \\right)} + 1}}$"
      ],
      "text/plain": [
       "           1            \n",
       "────────────────────────\n",
       "   _____________________\n",
       "  ╱  2                  \n",
       "╲╱  X  - 2⋅X⋅cos(θ) + 1 "
      ]
     },
     "execution_count": 3,
     "metadata": {},
     "output_type": "execute_result"
    }
   ],
   "source": [
    "#Introduce Legendre polynomials\n",
    "gf=1/sqrt(1+x**2-2*x*cos(theta))\n",
    "gf"
   ]
  },
  {
   "cell_type": "code",
   "execution_count": 4,
   "metadata": {},
   "outputs": [
    {
     "data": {
      "image/png": "[encoded data removed]",
      "text/latex": [
       "$\\displaystyle 1 + X \\cos{\\left(\\theta \\right)} + X^{2} \\left(\\frac{3 \\cos^{2}{\\left(\\theta \\right)}}{2} - \\frac{1}{2}\\right) + X^{3} \\left(\\frac{5 \\cos^{3}{\\left(\\theta \\right)}}{2} - \\frac{3 \\cos{\\left(\\theta \\right)}}{2}\\right) + O\\left(X^{4}\\right)$"
      ],
      "text/plain": [
       "                  ⎛     2       ⎞      ⎛     3              ⎞        \n",
       "                2 ⎜3⋅cos (θ)   1⎟    3 ⎜5⋅cos (θ)   3⋅cos(θ)⎟    ⎛ 4⎞\n",
       "1 + X⋅cos(θ) + X ⋅⎜───────── - ─⎟ + X ⋅⎜───────── - ────────⎟ + O⎝X ⎠\n",
       "                  ⎝    2       2⎠      ⎝    2          2    ⎠        "
      ]
     },
     "execution_count": 4,
     "metadata": {},
     "output_type": "execute_result"
    }
   ],
   "source": [
    "#Expand in power series\n",
    "gf.series(x,0,4)"
   ]
  },
  {
   "cell_type": "code",
   "execution_count": 6,
   "metadata": {},
   "outputs": [
    {
     "data": {
      "image/png": "[encoded data removed]",
      "text/latex": [
       "$\\displaystyle X^{3} \\left(\\frac{5 \\cos^{3}{\\left(\\theta \\right)}}{2} - \\frac{3 \\cos{\\left(\\theta \\right)}}{2}\\right) + X^{2} \\left(\\frac{3 \\cos^{2}{\\left(\\theta \\right)}}{2} - \\frac{1}{2}\\right) + X \\cos{\\left(\\theta \\right)} + 1$"
      ],
      "text/plain": [
       "   ⎛     3              ⎞      ⎛     2       ⎞               \n",
       " 3 ⎜5⋅cos (θ)   3⋅cos(θ)⎟    2 ⎜3⋅cos (θ)   1⎟               \n",
       "X ⋅⎜───────── - ────────⎟ + X ⋅⎜───────── - ─⎟ + X⋅cos(θ) + 1\n",
       "   ⎝    2          2    ⎠      ⎝    2       2⎠               "
      ]
     },
     "execution_count": 6,
     "metadata": {},
     "output_type": "execute_result"
    }
   ],
   "source": [
    "#Take off O\n",
    "gf_trunc=(gf.series(x,0,4)).removeO()\n",
    "gf_trunc"
   ]
  },
  {
   "cell_type": "code",
   "execution_count": 9,
   "metadata": {},
   "outputs": [
    {
     "data": {
      "image/png": "[encoded data removed]",
      "text/latex": [
       "$\\displaystyle \\left[ 1, \\  \\cos{\\left(\\theta \\right)}, \\  \\frac{3 \\cos^{2}{\\left(\\theta \\right)} - 1}{2}, \\  \\frac{\\left(5 \\cos^{2}{\\left(\\theta \\right)} - 3\\right) \\cos{\\left(\\theta \\right)}}{2}\\right]$"
      ],
      "text/plain": [
       "⎡                2         ⎛     2       ⎞       ⎤\n",
       "⎢           3⋅cos (θ) - 1  ⎝5⋅cos (θ) - 3⎠⋅cos(θ)⎥\n",
       "⎢1, cos(θ), ─────────────, ──────────────────────⎥\n",
       "⎣                 2                  2           ⎦"
      ]
     },
     "execution_count": 9,
     "metadata": {},
     "output_type": "execute_result"
    }
   ],
   "source": [
    "#Coefficient grouping\n",
    "coeff=[gf_trunc.coeff(x,i).factor() for i in range(4)]\n",
    "coeff"
   ]
  },
  {
   "cell_type": "code",
   "execution_count": 11,
   "metadata": {},
   "outputs": [
    {
     "name": "stdout",
     "output_type": "stream",
     "text": [
      "The gravitational potential is\n"
     ]
    },
    {
     "data": {
      "image/png": "[encoded data removed]",
      "text/latex": [
       "$\\displaystyle - \\frac{G M \\left(\\frac{\\pi X^{2}}{4} + \\pi\\right)}{\\pi R}$"
      ],
      "text/plain": [
       "     ⎛   2    ⎞ \n",
       "     ⎜π⋅X     ⎟ \n",
       "-G⋅M⋅⎜──── + π⎟ \n",
       "     ⎝ 4      ⎠ \n",
       "────────────────\n",
       "      π⋅R       "
      ]
     },
     "execution_count": 11,
     "metadata": {},
     "output_type": "execute_result"
    }
   ],
   "source": [
    "#Part a\n",
    "#Integrate the expanded series from theta = 0 to theta = pi\n",
    "int1=integrate(gf_trunc,(theta,0,pi))\n",
    "int1\n",
    "#Use gravitational potential expression\n",
    "phi=-2*mu*G*int1\n",
    "phi\n",
    "s=phi.subs({mu:M/(2*pi*R)})\n",
    "print(\"The gravitational potential is\")\n",
    "s"
   ]
  },
  {
   "cell_type": "code",
   "execution_count": 13,
   "metadata": {},
   "outputs": [
    {
     "name": "stdout",
     "output_type": "stream",
     "text": [
      "This is the average gravitational potential that is exerted by Jupiter on Earth -164410.261159293 J/kg\n"
     ]
    }
   ],
   "source": [
    "#Part b\n",
    "#Introduce parameters\n",
    "Rj=7.784e11 #Jupiter's orbit's radius in m\n",
    "Mj=1.90e27 #Jupiter's mass in kg\n",
    "Gc=6.674e-11 #Gravitational constant in m^3*kg^-1*s^2\n",
    "Rs=1.496e11 #Saturn's orbit's radius in m\n",
    "sj=(s.subs({G:Gc,M:Mj,R:Rj,x:(Rs/Rj)}))\n",
    "print(\"This is the average gravitational potential that is exerted by Jupiter on Earth\",sj,\"J/kg\")"
   ]
  },
  {
   "cell_type": "code",
   "execution_count": null,
   "metadata": {},
   "outputs": [],
   "source": [
    "                                                                                                                                                                                                                             "
   ]
  }
 ],
 "metadata": {
  "kernelspec": {
   "display_name": "Python 3",
   "language": "python",
   "name": "python3"
  },
  "language_info": {
   "codemirror_mode": {
    "name": "ipython",
    "version": 3
   },
   "file_extension": ".py",
   "mimetype": "text/x-python",
   "name": "python",
   "nbconvert_exporter": "python",
   "pygments_lexer": "ipython3",
   "version": "3.7.3"
  }
 },
 "nbformat": 4,
 "nbformat_minor": 2
}
